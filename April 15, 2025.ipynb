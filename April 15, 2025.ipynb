{
 "cells": [
  {
   "cell_type": "markdown",
   "id": "5f6f7ee6",
   "metadata": {},
   "source": [
    "Problem 1 :\n",
    "a = {1,2,3,4}\n",
    "b = {3,4,5,6}\n",
    "\n",
    "Output: Find out the common elements from these 2 sets."
   ]
  },
  {
   "cell_type": "code",
   "execution_count": 2,
   "id": "1045148a",
   "metadata": {},
   "outputs": [],
   "source": [
    "a = {1,2,3,4} \n",
    "b = {3,4,5,6}"
   ]
  },
  {
   "cell_type": "code",
   "execution_count": 3,
   "id": "4e6677d1",
   "metadata": {},
   "outputs": [
    {
     "data": {
      "text/plain": [
       "{3, 4}"
      ]
     },
     "execution_count": 3,
     "metadata": {},
     "output_type": "execute_result"
    }
   ],
   "source": [
    "a.intersection(b)"
   ]
  },
  {
   "cell_type": "markdown",
   "id": "211c9c71",
   "metadata": {},
   "source": [
    "Problem 2 : l = [1,2,3,4,4,6]\n",
    "\n",
    "Outout : Remove duplicate numbers"
   ]
  },
  {
   "cell_type": "code",
   "execution_count": 4,
   "id": "12130789",
   "metadata": {},
   "outputs": [],
   "source": [
    "l = [1,2,3,4,4,6]"
   ]
  },
  {
   "cell_type": "code",
   "execution_count": 5,
   "id": "5f480b0f",
   "metadata": {},
   "outputs": [
    {
     "data": {
      "text/plain": [
       "[1, 2, 3, 4, 6]"
      ]
     },
     "execution_count": 5,
     "metadata": {},
     "output_type": "execute_result"
    }
   ],
   "source": [
    "list(set(l))          # Method 1"
   ]
  },
  {
   "cell_type": "code",
   "execution_count": 6,
   "id": "27e27352",
   "metadata": {},
   "outputs": [],
   "source": [
    "import numpy as np"
   ]
  },
  {
   "cell_type": "code",
   "execution_count": 7,
   "id": "e3f5955c",
   "metadata": {},
   "outputs": [
    {
     "data": {
      "text/plain": [
       "array([1, 2, 3, 4, 6])"
      ]
     },
     "execution_count": 7,
     "metadata": {},
     "output_type": "execute_result"
    }
   ],
   "source": [
    "np.unique(l)          # Method 2"
   ]
  },
  {
   "cell_type": "code",
   "execution_count": 8,
   "id": "a12fec04",
   "metadata": {},
   "outputs": [
    {
     "data": {
      "text/plain": [
       "[1, 2, 3, 4, 6]"
      ]
     },
     "execution_count": 8,
     "metadata": {},
     "output_type": "execute_result"
    }
   ],
   "source": [
    "list(np.unique(l))"
   ]
  },
  {
   "cell_type": "code",
   "execution_count": 9,
   "id": "760e967d",
   "metadata": {},
   "outputs": [
    {
     "data": {
      "text/plain": [
       "5"
      ]
     },
     "execution_count": 9,
     "metadata": {},
     "output_type": "execute_result"
    }
   ],
   "source": [
    "len(list(np.unique(l)))        # to find lenght of list"
   ]
  },
  {
   "cell_type": "markdown",
   "id": "824c9c04",
   "metadata": {},
   "source": [
    "Problem 3 :\n",
    "a = {1,2,3,4} \n",
    "b = {3,4,5,6}\n",
    "\n",
    "Output : list of the elements which are not common in both the sets"
   ]
  },
  {
   "cell_type": "code",
   "execution_count": 10,
   "id": "eac13f7c",
   "metadata": {},
   "outputs": [],
   "source": [
    "a = {1,2,3,4} \n",
    "b = {3,4,5,6}"
   ]
  },
  {
   "cell_type": "code",
   "execution_count": 11,
   "id": "5560af7d",
   "metadata": {},
   "outputs": [
    {
     "data": {
      "text/plain": [
       "{1, 2, 5, 6}"
      ]
     },
     "execution_count": 11,
     "metadata": {},
     "output_type": "execute_result"
    }
   ],
   "source": [
    "a.symmetric_difference(b)"
   ]
  },
  {
   "cell_type": "code",
   "execution_count": 12,
   "id": "541285f4",
   "metadata": {},
   "outputs": [],
   "source": [
    "# To find common elements from two lists\n",
    "a = [1,2,3,4] \n",
    "b = [3,4,5,6]"
   ]
  },
  {
   "cell_type": "code",
   "execution_count": 13,
   "id": "ac93ba68",
   "metadata": {},
   "outputs": [
    {
     "data": {
      "text/plain": [
       "[3, 4]"
      ]
     },
     "execution_count": 13,
     "metadata": {},
     "output_type": "execute_result"
    }
   ],
   "source": [
    "list(set(a).intersection(set(b)))"
   ]
  },
  {
   "cell_type": "markdown",
   "id": "b04fe5df",
   "metadata": {},
   "source": [
    "Problem 4 : Find the unique words from sentence\n",
    "\n",
    "sentence = \"this is a test this is only a test\""
   ]
  },
  {
   "cell_type": "code",
   "execution_count": 14,
   "id": "00ea48a8",
   "metadata": {},
   "outputs": [],
   "source": [
    "sentence = \"this is a test this is only a test\""
   ]
  },
  {
   "cell_type": "code",
   "execution_count": 15,
   "id": "248ab962",
   "metadata": {},
   "outputs": [
    {
     "data": {
      "text/plain": [
       "['only', 'test', 'a', 'this', 'is']"
      ]
     },
     "execution_count": 15,
     "metadata": {},
     "output_type": "execute_result"
    }
   ],
   "source": [
    "list(set(sentence.split()))"
   ]
  },
  {
   "cell_type": "markdown",
   "id": "098e3510",
   "metadata": {},
   "source": [
    "Problem 5 : Create a list of square of elements that range 1-10"
   ]
  },
  {
   "cell_type": "code",
   "execution_count": 16,
   "id": "25b1d5ce",
   "metadata": {},
   "outputs": [],
   "source": [
    "# Method 1 "
   ]
  },
  {
   "cell_type": "code",
   "execution_count": 17,
   "id": "35fcefcb",
   "metadata": {},
   "outputs": [],
   "source": [
    "def var_square(x):\n",
    "    return x**2"
   ]
  },
  {
   "cell_type": "code",
   "execution_count": 18,
   "id": "2b3fd821",
   "metadata": {},
   "outputs": [],
   "source": [
    "result = []\n",
    "for i in range(1,11):\n",
    "    temp = var_square(i)\n",
    "    result.append(temp)"
   ]
  },
  {
   "cell_type": "code",
   "execution_count": 19,
   "id": "61ebd98b",
   "metadata": {},
   "outputs": [
    {
     "data": {
      "text/plain": [
       "[1, 4, 9, 16, 25, 36, 49, 64, 81, 100]"
      ]
     },
     "execution_count": 19,
     "metadata": {},
     "output_type": "execute_result"
    }
   ],
   "source": [
    "result"
   ]
  },
  {
   "cell_type": "code",
   "execution_count": 20,
   "id": "9c196b3b",
   "metadata": {},
   "outputs": [],
   "source": [
    "# Method 2"
   ]
  },
  {
   "cell_type": "code",
   "execution_count": 21,
   "id": "dfeedaab",
   "metadata": {},
   "outputs": [
    {
     "data": {
      "text/plain": [
       "[1, 4, 9, 16, 25, 36, 49, 64, 81, 100]"
      ]
     },
     "execution_count": 21,
     "metadata": {},
     "output_type": "execute_result"
    }
   ],
   "source": [
    "[i**2 for i in range(1,11)]"
   ]
  },
  {
   "cell_type": "markdown",
   "id": "eac58db2",
   "metadata": {},
   "source": [
    "Problem 6 : Add key and value into dicstionary\n",
    "\n",
    "person = {\"name\" : \"Dhruv\", \"age\" : 21, \"city\" : \"Vadodara\"}"
   ]
  },
  {
   "cell_type": "code",
   "execution_count": 22,
   "id": "d86e3076",
   "metadata": {},
   "outputs": [],
   "source": [
    "person = {\"name\" : \"Dhruv\", \"age\" : 21, \"city\" : \"Vadodara\"}"
   ]
  },
  {
   "cell_type": "code",
   "execution_count": 23,
   "id": "66f067de",
   "metadata": {},
   "outputs": [
    {
     "data": {
      "text/plain": [
       "'Dhruv'"
      ]
     },
     "execution_count": 23,
     "metadata": {},
     "output_type": "execute_result"
    }
   ],
   "source": [
    "person['name']         # Accessing Dicstionary"
   ]
  },
  {
   "cell_type": "code",
   "execution_count": 24,
   "id": "ff6dd010",
   "metadata": {},
   "outputs": [],
   "source": [
    "person[\"country\"] = \"Germany\"      # Adding (key : value)"
   ]
  },
  {
   "cell_type": "code",
   "execution_count": 25,
   "id": "3f3a5b08",
   "metadata": {},
   "outputs": [
    {
     "data": {
      "text/plain": [
       "{'name': 'Dhruv', 'age': 21, 'city': 'Vadodara', 'country': 'Germany'}"
      ]
     },
     "execution_count": 25,
     "metadata": {},
     "output_type": "execute_result"
    }
   ],
   "source": [
    "person"
   ]
  },
  {
   "cell_type": "code",
   "execution_count": 26,
   "id": "3984631d",
   "metadata": {},
   "outputs": [
    {
     "data": {
      "text/plain": [
       "21"
      ]
     },
     "execution_count": 26,
     "metadata": {},
     "output_type": "execute_result"
    }
   ],
   "source": [
    "person.pop(\"age\")                  # To remove elements from dicstionary"
   ]
  },
  {
   "cell_type": "code",
   "execution_count": 27,
   "id": "a132940d",
   "metadata": {},
   "outputs": [
    {
     "data": {
      "text/plain": [
       "{'name': 'Dhruv', 'city': 'Vadodara', 'country': 'Germany'}"
      ]
     },
     "execution_count": 27,
     "metadata": {},
     "output_type": "execute_result"
    }
   ],
   "source": [
    "person"
   ]
  },
  {
   "cell_type": "markdown",
   "id": "104ffa54",
   "metadata": {},
   "source": [
    "Problem 7 : Convert Two lists into data dicstionary\n",
    "\n",
    "a = [1,2,3,4]\n",
    "b = [3,4,5,6]"
   ]
  },
  {
   "cell_type": "code",
   "execution_count": 28,
   "id": "ab1f2eab",
   "metadata": {},
   "outputs": [],
   "source": [
    "a = [1,2,3,4] \n",
    "b = [3,4,5,6]"
   ]
  },
  {
   "cell_type": "code",
   "execution_count": 29,
   "id": "f0545622",
   "metadata": {},
   "outputs": [
    {
     "data": {
      "text/plain": [
       "{1: 3, 2: 4, 3: 5, 4: 6}"
      ]
     },
     "execution_count": 29,
     "metadata": {},
     "output_type": "execute_result"
    }
   ],
   "source": [
    "dict(zip(a,b))"
   ]
  },
  {
   "cell_type": "code",
   "execution_count": 32,
   "id": "c65175aa",
   "metadata": {},
   "outputs": [
    {
     "data": {
      "text/html": [
       "<div>\n",
       "<style scoped>\n",
       "    .dataframe tbody tr th:only-of-type {\n",
       "        vertical-align: middle;\n",
       "    }\n",
       "\n",
       "    .dataframe tbody tr th {\n",
       "        vertical-align: top;\n",
       "    }\n",
       "\n",
       "    .dataframe thead th {\n",
       "        text-align: right;\n",
       "    }\n",
       "</style>\n",
       "<table border=\"1\" class=\"dataframe\">\n",
       "  <thead>\n",
       "    <tr style=\"text-align: right;\">\n",
       "      <th></th>\n",
       "      <th>1</th>\n",
       "      <th>2</th>\n",
       "      <th>3</th>\n",
       "      <th>4</th>\n",
       "    </tr>\n",
       "  </thead>\n",
       "  <tbody>\n",
       "    <tr>\n",
       "      <th>0</th>\n",
       "      <td>3</td>\n",
       "      <td>4</td>\n",
       "      <td>5</td>\n",
       "      <td>6</td>\n",
       "    </tr>\n",
       "  </tbody>\n",
       "</table>\n",
       "</div>"
      ],
      "text/plain": [
       "   1  2  3  4\n",
       "0  3  4  5  6"
      ]
     },
     "execution_count": 32,
     "metadata": {},
     "output_type": "execute_result"
    }
   ],
   "source": [
    "# To convert into DataFrame\n",
    "\n",
    "import pandas as pd\n",
    "\n",
    "pd.DataFrame([dict(zip(a,b))])      # we have to pass list (indexes)"
   ]
  },
  {
   "cell_type": "markdown",
   "id": "a654c20b",
   "metadata": {},
   "source": [
    "Problem 8 : Multiple for loop"
   ]
  },
  {
   "cell_type": "code",
   "execution_count": 33,
   "id": "ba9e92a9",
   "metadata": {},
   "outputs": [],
   "source": [
    "# Method 1\n",
    "pairs = [(1,2),(2,1),(3,4),(4,3),(1,2)]"
   ]
  },
  {
   "cell_type": "code",
   "execution_count": 36,
   "id": "8d38df61",
   "metadata": {},
   "outputs": [],
   "source": [
    "pairs = list(set(pairs))                  # Removing Duplicate values"
   ]
  },
  {
   "cell_type": "code",
   "execution_count": 35,
   "id": "0eb9389b",
   "metadata": {},
   "outputs": [
    {
     "data": {
      "text/plain": [
       "[(1, 2), (2, 1), (3, 4), (4, 3)]"
      ]
     },
     "execution_count": 35,
     "metadata": {},
     "output_type": "execute_result"
    }
   ],
   "source": [
    "pairs"
   ]
  },
  {
   "cell_type": "code",
   "execution_count": 38,
   "id": "75cddc0f",
   "metadata": {},
   "outputs": [
    {
     "data": {
      "text/plain": [
       "[(2, 1), (4, 3)]"
      ]
     },
     "execution_count": 38,
     "metadata": {},
     "output_type": "execute_result"
    }
   ],
   "source": [
    "output= []\n",
    "for i in range(len(pairs)):\n",
    "    for j in range(i+1,len(pairs)):\n",
    "        if(pairs[i][0] == pairs[j][1]) & (pairs[i][1] == pairs[j][0]):\n",
    "            output.append(pairs[j])\n",
    "            \n",
    "list(set(output))"
   ]
  },
  {
   "cell_type": "code",
   "execution_count": 39,
   "id": "fbecffbd",
   "metadata": {},
   "outputs": [
    {
     "data": {
      "text/plain": [
       "[(1, 2), (3, 4)]"
      ]
     },
     "execution_count": 39,
     "metadata": {},
     "output_type": "execute_result"
    }
   ],
   "source": [
    "# Method 2\n",
    "[pairs[i] for i in range(len(pairs)) for j in range(i+1,len(pairs)) if(pairs[i][0] == pairs[j][1]) & (pairs[i][1] == pairs[j][0])]"
   ]
  },
  {
   "cell_type": "markdown",
   "id": "3a9c85e4",
   "metadata": {},
   "source": [
    "Problem 9 : \n",
    "\n",
    "Input : [1,2 [3,4]]\n",
    "\n",
    "Output : [1,2,3,4]"
   ]
  },
  {
   "cell_type": "code",
   "execution_count": 49,
   "id": "3e678029",
   "metadata": {},
   "outputs": [],
   "source": [
    "# Without Method\n",
    "x1 = [1,2, [3,4]]"
   ]
  },
  {
   "cell_type": "code",
   "execution_count": 50,
   "id": "ad99f124",
   "metadata": {},
   "outputs": [],
   "source": [
    "result1 = []"
   ]
  },
  {
   "cell_type": "code",
   "execution_count": 51,
   "id": "02589087",
   "metadata": {},
   "outputs": [],
   "source": [
    "for i in x1:\n",
    "    if isinstance(i,list):\n",
    "        result1.extend(i)\n",
    "    else:\n",
    "        result1.append(i)"
   ]
  },
  {
   "cell_type": "code",
   "execution_count": 53,
   "id": "258829f7",
   "metadata": {},
   "outputs": [
    {
     "data": {
      "text/plain": [
       "[1, 2, 3, 4]"
      ]
     },
     "execution_count": 53,
     "metadata": {},
     "output_type": "execute_result"
    }
   ],
   "source": [
    "result1"
   ]
  },
  {
   "cell_type": "code",
   "execution_count": 62,
   "id": "1727e794",
   "metadata": {},
   "outputs": [],
   "source": [
    "# with Method\n",
    "x2 = [1,2, [3,4], {5,6}]"
   ]
  },
  {
   "cell_type": "code",
   "execution_count": 63,
   "id": "a25151fd",
   "metadata": {},
   "outputs": [],
   "source": [
    "result3 = []"
   ]
  },
  {
   "cell_type": "code",
   "execution_count": 64,
   "id": "02fa9d57",
   "metadata": {},
   "outputs": [],
   "source": [
    "def flatten_func(x2):\n",
    "    for i in x2:\n",
    "        if isinstance(i,(list,set)):\n",
    "            result3.extend(i)\n",
    "        else:\n",
    "            result3.append(i)\n",
    "    return result3"
   ]
  },
  {
   "cell_type": "code",
   "execution_count": 65,
   "id": "32ec0838",
   "metadata": {},
   "outputs": [
    {
     "data": {
      "text/plain": [
       "[1, 2, 3, 4, 5, 6]"
      ]
     },
     "execution_count": 65,
     "metadata": {},
     "output_type": "execute_result"
    }
   ],
   "source": [
    "flatten_func(x2)"
   ]
  },
  {
   "cell_type": "code",
   "execution_count": null,
   "id": "b4cbeb9f",
   "metadata": {},
   "outputs": [],
   "source": []
  }
 ],
 "metadata": {
  "kernelspec": {
   "display_name": "Python 3 (ipykernel)",
   "language": "python",
   "name": "python3"
  },
  "language_info": {
   "codemirror_mode": {
    "name": "ipython",
    "version": 3
   },
   "file_extension": ".py",
   "mimetype": "text/x-python",
   "name": "python",
   "nbconvert_exporter": "python",
   "pygments_lexer": "ipython3",
   "version": "3.11.4"
  }
 },
 "nbformat": 4,
 "nbformat_minor": 5
}
